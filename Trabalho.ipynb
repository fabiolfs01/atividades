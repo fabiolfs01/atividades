{
  "nbformat": 4,
  "nbformat_minor": 0,
  "metadata": {
    "colab": {
      "name": "Trabalho.ipynb",
      "provenance": [],
      "toc_visible": true,
      "include_colab_link": true
    },
    "kernelspec": {
      "name": "python3",
      "display_name": "Python 3"
    },
    "language_info": {
      "name": "python"
    }
  },
  "cells": [
    {
      "cell_type": "markdown",
      "metadata": {
        "id": "view-in-github",
        "colab_type": "text"
      },
      "source": [
        "<a href=\"https://colab.research.google.com/github/fabiolfs01/atividades/blob/main/Trabalho.ipynb\" target=\"_parent\"><img src=\"https://colab.research.google.com/assets/colab-badge.svg\" alt=\"Open In Colab\"/></a>"
      ]
    },
    {
      "cell_type": "markdown",
      "metadata": {
        "id": "ygsUsY2SY3I1"
      },
      "source": [
        "# Trabalho Desenvolvimento de Sistemas & Implementação de Redes de Computadores\n",
        "\n",
        "1.   Para resolução desse Trabalho é preciso estudar os conteúdos no Google Class das respectivas turmas, realização de pesquisa dos temas e ter acompanhado as aulas síncronas\n",
        "2.   Será valorizado pesquisa de conteúdos, os mesmos devem ser referenciados\n",
        "3.   Os alunos devem entregar em um único arquivo em uma página disponível no GITHUB com nome completo de todos em uma cópia dessa atividade. A mesma será cadastrada no Google Class\n",
        "\n",
        "4.  Este Trabalho valerá 50% da nota do bimestre na respectiva disciplina. Esforcem-se.\n",
        "\n",
        "5. Será valorizado: o prazo de entrega, organização, conhecimento técnico e criatividade das soluções.\n",
        "\n",
        "O DESAFIO: O CENEP precisa da colaboração dos alunos para desenvolvimento de Desenvolvimento de Sistemas a serem utilizados na escola visando melhorias para desenvolvimento e implementação de Redes de Computadores da escola. Sabendo disso, desenvolva em grupo de até 4 alunos as soluções para as problemáticas abaixo. "
      ]
    },
    {
      "cell_type": "markdown",
      "metadata": {
        "id": "GCKNYMYMa1T1"
      },
      "source": [
        "# Questões Desenvolvimento de Sistemas"
      ]
    },
    {
      "cell_type": "markdown",
      "metadata": {
        "id": "z8TZIHkbawB1"
      },
      "source": [
        "1) Crie um programa de computador que pergunte o nome do GRUPO. Pergunte o nome dos componentes e por último imprima o nome de todos no formato \"O nome do grupo é TAL. Ele é composto pelo Componente 1, Componente 2, Componente 3 e Componente 4.\""
      ]
    },
    {
      "cell_type": "code",
      "metadata": {
        "id": "sQgbj3KnZpAV"
      },
      "source": [
        "#Desenvolva a solução\n",
        "\n"
      ],
      "execution_count": null,
      "outputs": []
    },
    {
      "cell_type": "code",
      "metadata": {
        "id": "e49yEZ9YCzJs"
      },
      "source": [
        "       grupo = input (\"Digite o nome do grupo: \")\n",
        "       nome1 = input(\"Digite o nome1: \")\n",
        "       nome2 = input(\"Digite o Nome2: \")\n",
        "       nome3 = input(\"Digite o nome3: \")\n",
        "       nome4 = input(\"Digite o nome4: \")\n",
        "       \n",
        "print(\"o nome do grupo e os componentes é:\")\n",
        "print(\"grupo: {}\\nnome1: {}\\nnome2:  {}\\nnome3:  {}\\nnome4: {}\\n\".format(grupo,nome1,nome2,nome3,nome4))\n",
        "\n"
      ],
      "execution_count": null,
      "outputs": []
    },
    {
      "cell_type": "markdown",
      "metadata": {
        "id": "BEj1HYNydgV7"
      },
      "source": [
        "2) Uma prática comum do técnico de informática e desenvolvimento de projetos e manutenção em redes de computadores. Para isso é comum a necessidade de revisão de cabos.\n",
        "\n",
        "Visando facilitar o trabalho do técnico de informática, crie um programa que faça o cálculo da compra da metragem de cabo necessária para a sala. Para conhecer a fórmula e conhecimento relacionado acesso [o slide](https://www.projetoderedes.com.br/aulas/ugb_infraestrutura/UGB_apoio_aula2_Cabeamento_Metalico.pdf) e visualize a página 21 e 22."
      ]
    },
    {
      "cell_type": "markdown",
      "metadata": {
        "id": "NRy7E8o4iZ66"
      },
      "source": [
        "#Dados do grupo: \n",
        "\n",
        "\n",
        "*   Turma:I3M02\n",
        "*   Turuno:MATUTINO\n",
        "\n",
        "1.   Nome do Componente:Luiz Fabio\n",
        "2.   Nome do Componente:Matheus Felipe\n",
        "3.   Nome do Componente:Moises Meirelles\n",
        "4.   Nome do Componente:Antonio Herminio\n",
        "\n",
        "\n"
      ]
    },
    {
      "cell_type": "code",
      "metadata": {
        "id": "D4q8BoGfdgep"
      },
      "source": [
        "#Desenvolva a solução\n",
        "\n",
        "\n"
      ],
      "execution_count": null,
      "outputs": []
    },
    {
      "cell_type": "code",
      "metadata": {
        "id": "1VgT8ettY-7o"
      },
      "source": [
        "num1 = int(input(\"Digite o valor LL: \"))\n",
        "num2 = int(input(\"Digite o valor LC: \"))\n",
        "num3 = int(input(\"Digite o valor PD: \"))\n",
        "num4 = int(input(\"Digite o valor NP: \"))\n",
        "soma = num1 + num2 + 4 * num3 / 2 * num4 * 1.10\n",
        "print(f'o valor da soma  em metros de cabo é : {soma}')\n",
        "\n"
      ],
      "execution_count": null,
      "outputs": []
    },
    {
      "cell_type": "markdown",
      "metadata": {
        "id": "LJRaFzGzeUyo"
      },
      "source": [
        "3) Um professor sugeriu que todos as videoaulas da escola fossem gravadas e disponibilizadas em um nuvem da própria escola. Foi explicado que para ser feito isso seria preciso calcular o tamanho necessário da contratação do serviço em nuvem. Leve em consideração as informações abaixo e crie um programa para responder o tamanho do disco necessário realizando perguntas ao usuário do programa:\n",
        "\n",
        "*   São gravados 30 videoaulas por semana\n",
        "*   O ano letivo tem 30 semanas de aula\n",
        "*   Cada vídeo possui tamanho médio de 500mb\n",
        "*   Dimensione o projeto para 5 anos \n",
        "\n"
      ]
    },
    {
      "cell_type": "code",
      "metadata": {
        "id": "NFf4t-AHfjZy"
      },
      "source": [
        "# Desenvolva a solução\n"
      ],
      "execution_count": null,
      "outputs": []
    },
    {
      "cell_type": "code",
      "metadata": {
        "id": "DX5uTQUoHpu-"
      },
      "source": [
        " num1 = int(input(\"Digite qauntas videoaulas por semana: \"))\n",
        " num2 = int(input(\"Digite o numero de semanas por ano letivo: \"))\n",
        " num3 = int(input(\"Digite o tamanho medio do video: \"))\n",
        " num4 = int(input(\"Digite o periodo por quantos anos: \"))\n",
        " soma = num1 * num2 * num3 * num4\n",
        " multiplicacao = num1 * num2 * num3 * num4\n",
        "print(f'o valor da multiplicação é,VALOR EM MB: {multiplicacao}')"
      ],
      "execution_count": null,
      "outputs": []
    },
    {
      "cell_type": "markdown",
      "metadata": {
        "id": "z3g-LGdFgWrW"
      },
      "source": [
        "# Questões de Redes de Computadores\n",
        "\n"
      ]
    },
    {
      "cell_type": "markdown",
      "metadata": {
        "id": "ckZKp056gheC"
      },
      "source": [
        "1) Crie uma estrutura de pastas conforme a [lista da imagem](https://external-content.duckduckgo.com/iu/?u=https%3A%2F%2Fwww.clubedohardware.com.br%2Fuploads%2Fmonthly_2018_02%2F5a8ec67a50646_EstruturaPastas.thumb.jpg.1dd070320d20182a7215290804506138.jpg&f=1&nofb=1) utilizando o shell do linux."
      ]
    },
    {
      "cell_type": "code",
      "metadata": {
        "id": "GCWzweHBhP02"
      },
      "source": [
        "#Adicione o texto da sua solução após testar no IBM SHELL ou outra interface. SHELL."
      ],
      "execution_count": null,
      "outputs": []
    },
    {
      "cell_type": "markdown",
      "metadata": {
        "id": "dTjOFw0ghYvV"
      },
      "source": [
        "2) Um computador na escola não consegue acessar a internet, outro computador consegue acessar normalmente. Escreva uma sugestão de teste e solução de acorodo com as práticas das aulas para ser implementada. "
      ]
    },
    {
      "cell_type": "code",
      "metadata": {
        "id": "NpT36y9shuVo"
      },
      "source": [
        "#Adicione o texto da sua solução após testar no IBM SHELL ou outra interface. SHELL.\n",
        "A rede que está aparentemente conectada pode gerar problemas no acesso à \n",
        "internet ou se desconectar da máquina. Uma sugestão é tentar abrir o navegador,\n",
        "caso não resolva isso também pode ser causado por falhas na leitura dos dados \n",
        "e uma boa solução é esquecer essa rede e conectar novamente."
      ],
      "execution_count": null,
      "outputs": []
    },
    {
      "cell_type": "markdown",
      "metadata": {
        "id": "XIIwOAjlhvCr"
      },
      "source": [
        "3) Faça uma pesquisa sobre os protocolos que fazem parte do modelo de TCP/IP e informe os protocolos de comunicação por camada com sua definição. É preciso no mínimo dois protocolos por camada."
      ]
    },
    {
      "cell_type": "code",
      "metadata": {
        "id": "Qq8O3PztiPqo"
      },
      "source": [
        "#Resposta camada Aplicação:\n",
        "Camada aplicação -\n",
        "FTP é a sigla para File Transfer Protocol, um termo que, traduzido para o \n",
        "português, significa Protocolo de Transferência de Arquivos. Ele é basicamente \n",
        "um tipo de conexão que permite a troca de arquivos entre dois computadores \n",
        "conectados à internet.\n",
        "\n",
        "Protocolo POP\n",
        "Outro protocolo de e-mail útil é o Post Office Protocol (POP). Com o POP, é \n",
        "possível configurar uma máquina como um ponto de recebimento de e-mail.  O POP \n",
        "fornece uma maneira simples e padronizada para os usuários acessarem caixas de \n",
        "correio e baixarem mensagens para seus computadores."
      ],
      "execution_count": null,
      "outputs": []
    },
    {
      "cell_type": "code",
      "metadata": {
        "id": "WmxqntbniIk3"
      },
      "source": [
        "#Resposta camada Transporte:Camada de Transporte - \n",
        "Camada de Transporte - \n",
        "UDP: É um protocolo não confiável pois diferentemente do TCP ele não faz nenhum \n",
        "tipo de controle, não controla fluxo, não faz o reenvio de segmentos que falhar\n",
        "am na transmissão, também não realiza a ordenação de pacotes que chegaram ao \n",
        "destino desordenados e não retorna a confirmação de que os dados foram entregues\n",
        ".Ou seja, o UDP não garante que os dados serão entregues de forma correta ao \n",
        "destino\n",
        "\n",
        "SCTP (Stream Control Transmission Protocol) é um protocolo da Internet que \n",
        "possui uma série de vantagens, tornando seu uso atrativo para cenários de opera\n",
        "ção tradicionalmente de usuários de protocolos como o UDP (User Datagram Proto\n",
        "col) e o TCP (Transport Control Protocol).\n"
      ],
      "execution_count": null,
      "outputs": []
    },
    {
      "cell_type": "code",
      "metadata": {
        "id": "qh-8h8VgiOCb"
      },
      "source": [
        "#Resposta camada Internet:\n",
        "Camada de internet-\n",
        "IP é um endereço exclusivo que identifica um dispositivo na Internet ou em uma \n",
        "rede local. IP vem do inglês \"Internet Protocol\" (protocolo de rede)que consiste\n",
        "em um conjunto de regras que regem o formato de dados enviados pela Internet ou\n",
        "por uma rede local.\n",
        "\n",
        "MPLS é uma abreviação do termo Multiprotocol Label Switching, que representa um \n",
        "protocolo de chaveamento de pacotes, que possibilita o encaminhamento de \n",
        "etiquetas para identificação do roteador mais próximo, e define o melhor fluxo \n",
        "de envio desses pacotes."
      ],
      "execution_count": null,
      "outputs": []
    },
    {
      "cell_type": "code",
      "metadata": {
        "id": "5Cuo_V9oiUTJ"
      },
      "source": [
        "#Resposta camada Acesso a Rede:\n",
        "Camada de Rede -\n",
        "O IPSec é um protocolo de camada 3 projetado para suprir a falta de segurança de\n",
        "informações trafegando em rede pública. Basicamente o IPSec protege os pacotes \n",
        "IP de dados privados, encapsulando em outros pacotes IP para serem transporta\n",
        "dos.\n",
        "\n",
        "ICMP, sigla para o inglês Internet Control Message Protocol (em português, \n",
        "Protocolo de Mensagens de Controle da Internet), é um protocolo integrante do \n",
        "Protocolo IP, definido pelo RFC 792, é utilizado para comunicar informações da \n",
        "camada de rede, sendo o uso mais comum para fornecer relatórios de erros à fonte\n",
        " ...\n",
        "\n",
        "2. A rede que está aparentemente conectada pode gerar problemas no acesso à \n",
        "internet ou se desconectar da máquina. Uma sugestão é tentar abrir o navegador,\n",
        "caso não resolva isso também pode ser causado por falhas na leitura dos dados e\n",
        "uma boa solução é esquecer essa rede e conectar novamente.\n",
        "\n",
        "\n",
        "referencias de conteúdos estudado para fazer o trabalho.\n",
        "https://pt.wikipedia.org/wiki/TCP/IP\n",
        "https://esr.rnp.br/administracao-e-projeto-de-redes/arquitetura-tcp/ip-conceitos\n",
        "-basicos/\n",
        "\n",
        "\n"
      ],
      "execution_count": null,
      "outputs": []
    }
  ]
}